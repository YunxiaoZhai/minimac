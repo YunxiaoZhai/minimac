{
 "cells": [
  {
   "cell_type": "code",
   "execution_count": null,
   "id": "489423ab-1b99-4a89-872e-0179ae2e5469",
   "metadata": {},
   "outputs": [
    {
     "name": "stdout",
     "output_type": "stream",
     "text": [
      "========== minimac testing result ==========\n",
      ">> Testing Statistics:\n",
      "        K_0       K_1       K_2       K_3\n",
      "H -0.683775 -1.612159 -3.903757 -3.903757\n",
      ">> Rejection Status:\n",
      "                K_0  K_1  K_2  K_3\n",
      "1%, one-sided     0    0    1    1\n",
      "1%, two-sided     0    0    1    1\n",
      "5%, one-sided     0    0    1    1\n",
      "5%, two-sided     0    0    1    1\n",
      "10%, one-sided    0    1    1    1\n",
      "10%, two-sided    0    0    1    1\n"
     ]
    }
   ],
   "source": [
    "## Prepare modules\n",
    "import os\n",
    "try:\n",
    "    import pandas as pd\n",
    "    import numpy as np\n",
    "except ImportError:\n",
    "    print(\"Trying to Install required module...\\n\")\n",
    "    os.system('python -m pip install pandas')\n",
    "    os.system('python -m pip install numpy')\n",
    "\n",
    "## Import modules\n",
    "from minimac import minimac, summary_minimac\n",
    "import pandas as pd\n",
    "import numpy as np\n",
    "\n",
    "## Load data and run minimac\n",
    "data = pd.read_csv('../SPY_20141215_1s.csv')\n",
    "y = np.log(data['PRICE'])\n",
    "stat = minimac(y,1/252)\n",
    "summary_minimac(stat)"
   ]
  }
 ],
 "metadata": {
  "kernelspec": {
   "display_name": "Python 3",
   "language": "python",
   "name": "python3"
  },
  "language_info": {
   "codemirror_mode": {
    "name": "ipython",
    "version": 3
   },
   "file_extension": ".py",
   "mimetype": "text/x-python",
   "name": "python",
   "nbconvert_exporter": "python",
   "pygments_lexer": "ipython3",
   "version": "3.12.6"
  }
 },
 "nbformat": 4,
 "nbformat_minor": 5
}
