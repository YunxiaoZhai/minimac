{
 "cells": [
  {
   "cell_type": "code",
   "execution_count": 2,
   "id": "7eb4c000-0670-4545-b270-fd351b143b88",
   "metadata": {
    "vscode": {
     "languageId": "r"
    }
   },
   "outputs": [
    {
     "name": "stdout",
     "output_type": "stream",
     "text": [
      "================ minimac testing result ================\n",
      ">> Testing Statistics:\n",
      "        K_0      K_1      K_2      K_3\n",
      "H -0.683775 -1.61216 -3.90376 -3.90376\n",
      ">> Rejection Status:\n",
      "               K_0 K_1 K_2 K_3\n",
      "1%, one-sided    0   0   1   1\n",
      "1%, two-sided    0   0   1   1\n",
      "5%, one-sided    0   0   1   1\n",
      "5%, two-sided    0   0   1   1\n",
      "10%, one-sided   0   1   1   1\n",
      "10%, two-sided   0   0   1   1\n"
     ]
    }
   ],
   "source": [
    "# Load function of minimac\n",
    "source(\"minimac.R\")\n",
    "\n",
    "# Import data\n",
    "data <- read.csv(\"../SPY_20141215_1s.csv\")\n",
    "y <- log(data$PRICE)\n",
    "\n",
    "# Testing for Market Friction\n",
    "options(digits = 6)\n",
    "stat <- minimac(y,1/252)\n",
    "summary_minimac(stat)"
   ]
  }
 ],
 "metadata": {
  "kernelspec": {
   "display_name": "R",
   "language": "R",
   "name": "ir"
  },
  "language_info": {
   "codemirror_mode": "r",
   "file_extension": ".r",
   "mimetype": "text/x-r-source",
   "name": "R",
   "pygments_lexer": "r",
   "version": "4.4.1"
  }
 },
 "nbformat": 4,
 "nbformat_minor": 5
}
